{
 "cells": [
  {
   "cell_type": "code",
   "execution_count": 1,
   "id": "17069476-d393-459f-bf21-061fba9ec533",
   "metadata": {},
   "outputs": [],
   "source": [
    "import pandas as pd\n",
    "import numpy as np\n",
    "from sklearn.model_selection import train_test_split, GridSearchCV\n",
    "from sklearn.ensemble import RandomForestClassifier, GradientBoostingClassifier\n",
    "from sklearn.metrics import f1_score\n",
    "from sklearn.preprocessing import StandardScaler\n",
    "from xgboost import XGBClassifier"
   ]
  },
  {
   "cell_type": "code",
   "execution_count": 2,
   "id": "5e8f0cb7-846c-40b7-995e-d6fb0315c2c8",
   "metadata": {},
   "outputs": [],
   "source": [
    "train_data = pd.read_csv(r'C:\\Users\\msi!\\OneDrive\\Documents\\Simi Docs\\train_LZdllcl.csv')\n",
    "test_data = pd.read_csv(r'C:\\Users\\msi!\\OneDrive\\Documents\\Simi Docs\\test_2umaH9m.csv')\n",
    "sample_submission = pd.read_csv(r'C:\\Users\\msi!\\OneDrive\\Documents\\Simi Docs\\sample_submission_M0L0uXE.csv')"
   ]
  },
  {
   "cell_type": "markdown",
   "id": "10e7aeb6-2c36-469d-b2dc-ed0fe647c3dd",
   "metadata": {},
   "source": [
    "### 1. Exploratory Data Analysis (EDA)"
   ]
  },
  {
   "cell_type": "code",
   "execution_count": 3,
   "id": "ec7e97f4-94fd-4a59-b7ad-cc22fa3bc18d",
   "metadata": {},
   "outputs": [
    {
     "name": "stdout",
     "output_type": "stream",
     "text": [
      "Training Data Overview:\n",
      "    employee_id         department     region         education gender  \\\n",
      "0        65438  Sales & Marketing   region_7  Master's & above      f   \n",
      "1        65141         Operations  region_22        Bachelor's      m   \n",
      "2         7513  Sales & Marketing  region_19        Bachelor's      m   \n",
      "3         2542  Sales & Marketing  region_23        Bachelor's      m   \n",
      "4        48945         Technology  region_26        Bachelor's      m   \n",
      "\n",
      "  recruitment_channel  no_of_trainings  age  previous_year_rating  \\\n",
      "0            sourcing                1   35                   5.0   \n",
      "1               other                1   30                   5.0   \n",
      "2            sourcing                1   34                   3.0   \n",
      "3               other                2   39                   1.0   \n",
      "4               other                1   45                   3.0   \n",
      "\n",
      "   length_of_service  KPIs_met >80%  awards_won?  avg_training_score  \\\n",
      "0                  8              1            0                  49   \n",
      "1                  4              0            0                  60   \n",
      "2                  7              0            0                  50   \n",
      "3                 10              0            0                  50   \n",
      "4                  2              0            0                  73   \n",
      "\n",
      "   is_promoted  \n",
      "0            0  \n",
      "1            0  \n",
      "2            0  \n",
      "3            0  \n",
      "4            0  \n",
      "Test Data Overview:\n",
      "    employee_id         department     region   education gender  \\\n",
      "0         8724         Technology  region_26  Bachelor's      m   \n",
      "1        74430                 HR   region_4  Bachelor's      f   \n",
      "2        72255  Sales & Marketing  region_13  Bachelor's      m   \n",
      "3        38562        Procurement   region_2  Bachelor's      f   \n",
      "4        64486            Finance  region_29  Bachelor's      m   \n",
      "\n",
      "  recruitment_channel  no_of_trainings  age  previous_year_rating  \\\n",
      "0            sourcing                1   24                   NaN   \n",
      "1               other                1   31                   3.0   \n",
      "2               other                1   31                   1.0   \n",
      "3               other                3   31                   2.0   \n",
      "4            sourcing                1   30                   4.0   \n",
      "\n",
      "   length_of_service  KPIs_met >80%  awards_won?  avg_training_score  \n",
      "0                  1              1            0                  77  \n",
      "1                  5              0            0                  51  \n",
      "2                  4              0            0                  47  \n",
      "3                  9              0            0                  65  \n",
      "4                  7              0            0                  61  \n",
      "\n",
      "Training Data Info:\n",
      "\n",
      "<class 'pandas.core.frame.DataFrame'>\n",
      "RangeIndex: 54808 entries, 0 to 54807\n",
      "Data columns (total 14 columns):\n",
      " #   Column                Non-Null Count  Dtype  \n",
      "---  ------                --------------  -----  \n",
      " 0   employee_id           54808 non-null  int64  \n",
      " 1   department            54808 non-null  object \n",
      " 2   region                54808 non-null  object \n",
      " 3   education             52399 non-null  object \n",
      " 4   gender                54808 non-null  object \n",
      " 5   recruitment_channel   54808 non-null  object \n",
      " 6   no_of_trainings       54808 non-null  int64  \n",
      " 7   age                   54808 non-null  int64  \n",
      " 8   previous_year_rating  50684 non-null  float64\n",
      " 9   length_of_service     54808 non-null  int64  \n",
      " 10  KPIs_met >80%         54808 non-null  int64  \n",
      " 11  awards_won?           54808 non-null  int64  \n",
      " 12  avg_training_score    54808 non-null  int64  \n",
      " 13  is_promoted           54808 non-null  int64  \n",
      "dtypes: float64(1), int64(8), object(5)\n",
      "memory usage: 5.9+ MB\n",
      "\n",
      "Missing Values in Training Data:\n",
      " employee_id                0\n",
      "department                 0\n",
      "region                     0\n",
      "education               2409\n",
      "gender                     0\n",
      "recruitment_channel        0\n",
      "no_of_trainings            0\n",
      "age                        0\n",
      "previous_year_rating    4124\n",
      "length_of_service          0\n",
      "KPIs_met >80%              0\n",
      "awards_won?                0\n",
      "avg_training_score         0\n",
      "is_promoted                0\n",
      "dtype: int64\n",
      "\n",
      "Missing Values in Test Data:\n",
      " employee_id                0\n",
      "department                 0\n",
      "region                     0\n",
      "education               1034\n",
      "gender                     0\n",
      "recruitment_channel        0\n",
      "no_of_trainings            0\n",
      "age                        0\n",
      "previous_year_rating    1812\n",
      "length_of_service          0\n",
      "KPIs_met >80%              0\n",
      "awards_won?                0\n",
      "avg_training_score         0\n",
      "dtype: int64\n"
     ]
    }
   ],
   "source": [
    "print(\"Training Data Overview:\\n\", train_data.head())\n",
    "print(\"Test Data Overview:\\n\", test_data.head())\n",
    "print(\"\\nTraining Data Info:\\n\")\n",
    "train_data.info()\n",
    "print(\"\\nMissing Values in Training Data:\\n\", train_data.isnull().sum())\n",
    "print(\"\\nMissing Values in Test Data:\\n\", test_data.isnull().sum())"
   ]
  },
  {
   "cell_type": "markdown",
   "id": "720f228b-6fb3-4a15-aa29-8053458e122e",
   "metadata": {},
   "source": [
    "### 2. Pre-processing for Training Data"
   ]
  },
  {
   "cell_type": "code",
   "execution_count": 4,
   "id": "ed9a940d-c014-4f7a-b4a7-253a9ee53d4d",
   "metadata": {},
   "outputs": [
    {
     "name": "stderr",
     "output_type": "stream",
     "text": [
      "C:\\Users\\msi!\\AppData\\Local\\Temp\\ipykernel_21056\\4077790131.py:1: FutureWarning: A value is trying to be set on a copy of a DataFrame or Series through chained assignment using an inplace method.\n",
      "The behavior will change in pandas 3.0. This inplace method will never work because the intermediate object on which we are setting values always behaves as a copy.\n",
      "\n",
      "For example, when doing 'df[col].method(value, inplace=True)', try using 'df.method({col: value}, inplace=True)' or df[col] = df[col].method(value) instead, to perform the operation inplace on the original object.\n",
      "\n",
      "\n",
      "  train_data['education'].fillna(train_data['education'].mode()[0], inplace=True)\n",
      "C:\\Users\\msi!\\AppData\\Local\\Temp\\ipykernel_21056\\4077790131.py:2: FutureWarning: A value is trying to be set on a copy of a DataFrame or Series through chained assignment using an inplace method.\n",
      "The behavior will change in pandas 3.0. This inplace method will never work because the intermediate object on which we are setting values always behaves as a copy.\n",
      "\n",
      "For example, when doing 'df[col].method(value, inplace=True)', try using 'df.method({col: value}, inplace=True)' or df[col] = df[col].method(value) instead, to perform the operation inplace on the original object.\n",
      "\n",
      "\n",
      "  train_data['previous_year_rating'].fillna(train_data['previous_year_rating'].median(), inplace=True)\n"
     ]
    }
   ],
   "source": [
    "train_data['education'].fillna(train_data['education'].mode()[0], inplace=True)\n",
    "train_data['previous_year_rating'].fillna(train_data['previous_year_rating'].median(), inplace=True)"
   ]
  },
  {
   "cell_type": "code",
   "execution_count": 5,
   "id": "498a85a3-e913-448a-9819-eefcebb611c0",
   "metadata": {},
   "outputs": [],
   "source": [
    "train_data_encoded = pd.get_dummies(train_data, columns=['department', 'region', 'education', 'gender', 'recruitment_channel'], drop_first=True)"
   ]
  },
  {
   "cell_type": "code",
   "execution_count": 6,
   "id": "d8f26c4e-15c3-47c8-8d3d-b6f13eeea219",
   "metadata": {},
   "outputs": [],
   "source": [
    "X = train_data_encoded.drop(['employee_id', 'is_promoted'], axis=1)\n",
    "y = train_data_encoded['is_promoted']"
   ]
  },
  {
   "cell_type": "code",
   "execution_count": 7,
   "id": "f4eff759-9dcd-49bb-8cd8-381adecacb9c",
   "metadata": {},
   "outputs": [],
   "source": [
    "X_train, X_val, y_train, y_val = train_test_split(X, y, test_size=0.2, random_state=42, stratify=y)"
   ]
  },
  {
   "cell_type": "markdown",
   "id": "d0fb8635-bfe8-4a6d-ae03-ebf4e8ceb952",
   "metadata": {},
   "source": [
    "### 3. Model Training"
   ]
  },
  {
   "cell_type": "code",
   "execution_count": 8,
   "id": "178f184d-98df-4707-a61c-3fda3c46b846",
   "metadata": {},
   "outputs": [],
   "source": [
    "models = {\n",
    "    'RandomForest': RandomForestClassifier(random_state=42),\n",
    "    'GradientBoosting': GradientBoostingClassifier(random_state=42),\n",
    "    'XGBoost': XGBClassifier(random_state=42, use_label_encoder=False, eval_metric='logloss')\n",
    "}"
   ]
  },
  {
   "cell_type": "code",
   "execution_count": 9,
   "id": "de9289ad-e5f3-4665-b204-a89e87a2691d",
   "metadata": {},
   "outputs": [
    {
     "name": "stdout",
     "output_type": "stream",
     "text": [
      "RandomForest F1 Score: 0.42924528301886794\n",
      "GradientBoosting F1 Score: 0.4137353433835846\n"
     ]
    },
    {
     "name": "stderr",
     "output_type": "stream",
     "text": [
      "D:\\applications\\anaconda\\Lib\\site-packages\\xgboost\\core.py:158: UserWarning: [19:44:40] WARNING: C:\\buildkite-agent\\builds\\buildkite-windows-cpu-autoscaling-group-i-0ed59c031377d09b8-1\\xgboost\\xgboost-ci-windows\\src\\learner.cc:740: \n",
      "Parameters: { \"use_label_encoder\" } are not used.\n",
      "\n",
      "  warnings.warn(smsg, UserWarning)\n"
     ]
    },
    {
     "name": "stdout",
     "output_type": "stream",
     "text": [
      "XGBoost F1 Score: 0.5168195718654435\n"
     ]
    }
   ],
   "source": [
    "best_f1 = 0\n",
    "best_model = None\n",
    "for model_name, model in models.items():\n",
    "    model.fit(X_train, y_train)\n",
    "    y_val_pred = model.predict(X_val)\n",
    "    f1 = f1_score(y_val, y_val_pred)\n",
    "    print(f\"{model_name} F1 Score: {f1}\")"
   ]
  },
  {
   "cell_type": "code",
   "execution_count": 10,
   "id": "02b29ea6-9d97-47ad-b391-09bce20343b2",
   "metadata": {},
   "outputs": [],
   "source": [
    " if f1 > best_f1:\n",
    "        best_f1 = f1\n",
    "        best_model = model"
   ]
  },
  {
   "cell_type": "code",
   "execution_count": 11,
   "id": "e5f0edc9-c9f3-49c2-8f8c-fdb0321a57a0",
   "metadata": {},
   "outputs": [
    {
     "name": "stdout",
     "output_type": "stream",
     "text": [
      "\n",
      "Best Model: XGBClassifier(base_score=None, booster=None, callbacks=None,\n",
      "              colsample_bylevel=None, colsample_bynode=None,\n",
      "              colsample_bytree=None, device=None, early_stopping_rounds=None,\n",
      "              enable_categorical=False, eval_metric='logloss',\n",
      "              feature_types=None, gamma=None, grow_policy=None,\n",
      "              importance_type=None, interaction_constraints=None,\n",
      "              learning_rate=None, max_bin=None, max_cat_threshold=None,\n",
      "              max_cat_to_onehot=None, max_delta_step=None, max_depth=None,\n",
      "              max_leaves=None, min_child_weight=None, missing=nan,\n",
      "              monotone_constraints=None, multi_strategy=None, n_estimators=None,\n",
      "              n_jobs=None, num_parallel_tree=None, random_state=42, ...)\n",
      "Best F1 Score on Validation Set: 0.5168195718654435\n"
     ]
    }
   ],
   "source": [
    "print(\"\\nBest Model:\", best_model)\n",
    "print(\"Best F1 Score on Validation Set:\", best_f1)"
   ]
  },
  {
   "cell_type": "markdown",
   "id": "d5d4300f-d67c-4a58-97ae-5d118836df9c",
   "metadata": {},
   "source": [
    "### 4. Hyperparameter Tuning "
   ]
  },
  {
   "cell_type": "code",
   "execution_count": 12,
   "id": "f23fabc5-9834-4c92-8e4f-75c57fcdbc13",
   "metadata": {},
   "outputs": [],
   "source": [
    "if isinstance(best_model, RandomForestClassifier):\n",
    "    param_grid = {\n",
    "        'n_estimators': [100, 200],\n",
    "        'max_depth': [None, 10, 20],\n",
    "        'min_samples_split': [2, 5],\n",
    "    }\n",
    "    grid_search = GridSearchCV(best_model, param_grid, scoring='f1', cv=3)\n",
    "    grid_search.fit(X_train, y_train)\n",
    "    best_model = grid_search.best_estimator_\n",
    "    print(\"Tuned Best Model:\", best_model)"
   ]
  },
  {
   "cell_type": "markdown",
   "id": "9dd2adeb-e014-4292-a6f7-b0ec8638820f",
   "metadata": {},
   "source": [
    "### 5. Pre-processing for Test Data"
   ]
  },
  {
   "cell_type": "code",
   "execution_count": 13,
   "id": "3502a5b1-9e09-40d4-9c4a-25a594cd470b",
   "metadata": {},
   "outputs": [
    {
     "name": "stderr",
     "output_type": "stream",
     "text": [
      "C:\\Users\\msi!\\AppData\\Local\\Temp\\ipykernel_21056\\2331944575.py:1: FutureWarning: A value is trying to be set on a copy of a DataFrame or Series through chained assignment using an inplace method.\n",
      "The behavior will change in pandas 3.0. This inplace method will never work because the intermediate object on which we are setting values always behaves as a copy.\n",
      "\n",
      "For example, when doing 'df[col].method(value, inplace=True)', try using 'df.method({col: value}, inplace=True)' or df[col] = df[col].method(value) instead, to perform the operation inplace on the original object.\n",
      "\n",
      "\n",
      "  test_data['education'].fillna(test_data['education'].mode()[0], inplace=True)\n",
      "C:\\Users\\msi!\\AppData\\Local\\Temp\\ipykernel_21056\\2331944575.py:2: FutureWarning: A value is trying to be set on a copy of a DataFrame or Series through chained assignment using an inplace method.\n",
      "The behavior will change in pandas 3.0. This inplace method will never work because the intermediate object on which we are setting values always behaves as a copy.\n",
      "\n",
      "For example, when doing 'df[col].method(value, inplace=True)', try using 'df.method({col: value}, inplace=True)' or df[col] = df[col].method(value) instead, to perform the operation inplace on the original object.\n",
      "\n",
      "\n",
      "  test_data['previous_year_rating'].fillna(test_data['previous_year_rating'].median(), inplace=True)\n"
     ]
    }
   ],
   "source": [
    "test_data['education'].fillna(test_data['education'].mode()[0], inplace=True)\n",
    "test_data['previous_year_rating'].fillna(test_data['previous_year_rating'].median(), inplace=True)"
   ]
  },
  {
   "cell_type": "code",
   "execution_count": 14,
   "id": "8d0f6c88-80fe-4de0-a79a-1f9c74f6a6d3",
   "metadata": {},
   "outputs": [],
   "source": [
    "test_data_encoded = pd.get_dummies(test_data, columns=['department', 'region', 'education', 'gender', 'recruitment_channel'], drop_first=True)\n",
    "test_data_encoded = test_data_encoded.reindex(columns=X.columns, fill_value=0)"
   ]
  },
  {
   "cell_type": "markdown",
   "id": "8d66dc7f-08e8-461d-94db-588a6bc4cb13",
   "metadata": {},
   "source": [
    "### 6. Prediction and Submission"
   ]
  },
  {
   "cell_type": "code",
   "execution_count": 15,
   "id": "74c66abc-4aff-431f-9e63-41d2c622d891",
   "metadata": {},
   "outputs": [],
   "source": [
    "test_predictions = best_model.predict(test_data_encoded)"
   ]
  },
  {
   "cell_type": "code",
   "execution_count": 16,
   "id": "baf5ef28-4043-47d6-a120-5b71131fd3f4",
   "metadata": {},
   "outputs": [],
   "source": [
    "submission = sample_submission.copy()\n",
    "submission['is_promoted'] = test_predictions"
   ]
  },
  {
   "cell_type": "code",
   "execution_count": 17,
   "id": "a96eb107-8d13-4a09-a969-df1918e739ec",
   "metadata": {},
   "outputs": [
    {
     "name": "stdout",
     "output_type": "stream",
     "text": [
      "Submission file saved as 'final_submission.csv'\n"
     ]
    }
   ],
   "source": [
    "submission.to_csv('final_submission.csv', index=False)\n",
    "print(\"Submission file saved as 'final_submission.csv'\")"
   ]
  },
  {
   "cell_type": "code",
   "execution_count": null,
   "id": "283d6d02-4804-4c16-97d6-bac9c656269d",
   "metadata": {},
   "outputs": [],
   "source": []
  }
 ],
 "metadata": {
  "kernelspec": {
   "display_name": "Python 3 (ipykernel)",
   "language": "python",
   "name": "python3"
  },
  "language_info": {
   "codemirror_mode": {
    "name": "ipython",
    "version": 3
   },
   "file_extension": ".py",
   "mimetype": "text/x-python",
   "name": "python",
   "nbconvert_exporter": "python",
   "pygments_lexer": "ipython3",
   "version": "3.12.4"
  }
 },
 "nbformat": 4,
 "nbformat_minor": 5
}
